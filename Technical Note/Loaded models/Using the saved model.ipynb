{
 "cells": [
  {
   "cell_type": "code",
   "execution_count": 3,
   "metadata": {},
   "outputs": [],
   "source": [
    "import tensorflow as tf"
   ]
  },
  {
   "cell_type": "code",
   "execution_count": 4,
   "metadata": {},
   "outputs": [
    {
     "name": "stderr",
     "output_type": "stream",
     "text": [
      "WARNING: Logging before flag parsing goes to stderr.\n",
      "W0821 12:49:57.063475 47116388987776 deprecation.py:506] From /software/tensorflow/2.0.0b/lib/python3.7/site-packages/tensorflow/python/ops/init_ops.py:97: calling GlorotNormal.__init__ (from tensorflow.python.ops.init_ops) with dtype is deprecated and will be removed in a future version.\n",
      "Instructions for updating:\n",
      "Call initializer instance with the dtype argument instead of passing it to the constructor\n",
      "W0821 12:49:57.068656 47116388987776 deprecation.py:506] From /software/tensorflow/2.0.0b/lib/python3.7/site-packages/tensorflow/python/ops/init_ops.py:97: calling Zeros.__init__ (from tensorflow.python.ops.init_ops) with dtype is deprecated and will be removed in a future version.\n",
      "Instructions for updating:\n",
      "Call initializer instance with the dtype argument instead of passing it to the constructor\n",
      "W0821 12:49:57.076292 47116388987776 deprecation.py:506] From /software/tensorflow/2.0.0b/lib/python3.7/site-packages/tensorflow/python/ops/init_ops.py:97: calling Ones.__init__ (from tensorflow.python.ops.init_ops) with dtype is deprecated and will be removed in a future version.\n",
      "Instructions for updating:\n",
      "Call initializer instance with the dtype argument instead of passing it to the constructor\n",
      "W0821 12:49:57.096746 47116388987776 deprecation.py:506] From /software/tensorflow/2.0.0b/lib/python3.7/site-packages/tensorflow/python/ops/init_ops.py:97: calling GlorotUniform.__init__ (from tensorflow.python.ops.init_ops) with dtype is deprecated and will be removed in a future version.\n",
      "Instructions for updating:\n",
      "Call initializer instance with the dtype argument instead of passing it to the constructor\n",
      "W0821 12:49:57.703257 47116388987776 nn_ops.py:4220] Large dropout rate: 0.7 (>0.5). In TensorFlow 2.x, dropout() uses dropout rate instead of keep_prob. Please ensure that this is intended.\n",
      "W0821 12:49:58.502236 47116388987776 deprecation.py:323] From /software/tensorflow/2.0.0b/lib/python3.7/site-packages/tensorflow/python/ops/nn_impl.py:182: add_dispatch_support.<locals>.wrapper (from tensorflow.python.ops.array_ops) is deprecated and will be removed in a future version.\n",
      "Instructions for updating:\n",
      "Use tf.where in 2.0, which has the same broadcast rule as np.where\n"
     ]
    },
    {
     "name": "stdout",
     "output_type": "stream",
     "text": [
      "Model: \"SNnet\"\n",
      "_________________________________________________________________\n",
      "Layer (type)                 Output Shape              Param #   \n",
      "=================================================================\n",
      "Input_Spec (InputLayer)      [(None, 150, 1)]          0         \n",
      "_________________________________________________________________\n",
      "conv1d (Conv1D)              (None, 150, 8)            48        \n",
      "_________________________________________________________________\n",
      "batch_normalization (BatchNo (None, 150, 8)            32        \n",
      "_________________________________________________________________\n",
      "activation (Activation)      (None, 150, 8)            0         \n",
      "_________________________________________________________________\n",
      "max_pooling1d (MaxPooling1D) (None, 75, 8)             0         \n",
      "_________________________________________________________________\n",
      "conv1d_1 (Conv1D)            (None, 75, 16)            656       \n",
      "_________________________________________________________________\n",
      "batch_normalization_1 (Batch (None, 75, 16)            64        \n",
      "_________________________________________________________________\n",
      "activation_1 (Activation)    (None, 75, 16)            0         \n",
      "_________________________________________________________________\n",
      "max_pooling1d_1 (MaxPooling1 (None, 37, 16)            0         \n",
      "_________________________________________________________________\n",
      "conv1d_2 (Conv1D)            (None, 37, 32)            2592      \n",
      "_________________________________________________________________\n",
      "batch_normalization_2 (Batch (None, 37, 32)            128       \n",
      "_________________________________________________________________\n",
      "activation_2 (Activation)    (None, 37, 32)            0         \n",
      "_________________________________________________________________\n",
      "max_pooling1d_2 (MaxPooling1 (None, 18, 32)            0         \n",
      "_________________________________________________________________\n",
      "conv1d_3 (Conv1D)            (None, 18, 64)            10304     \n",
      "_________________________________________________________________\n",
      "batch_normalization_3 (Batch (None, 18, 64)            256       \n",
      "_________________________________________________________________\n",
      "activation_3 (Activation)    (None, 18, 64)            0         \n",
      "_________________________________________________________________\n",
      "max_pooling1d_3 (MaxPooling1 (None, 9, 64)             0         \n",
      "_________________________________________________________________\n",
      "flatten (Flatten)            (None, 576)               0         \n",
      "_________________________________________________________________\n",
      "dense (Dense)                (None, 256)               147712    \n",
      "_________________________________________________________________\n",
      "dropout (Dropout)            (None, 256)               0         \n",
      "_________________________________________________________________\n",
      "Output_Classes (Dense)       (None, 1)                 257       \n",
      "=================================================================\n",
      "Total params: 162,049\n",
      "Trainable params: 161,809\n",
      "Non-trainable params: 240\n",
      "_________________________________________________________________\n"
     ]
    }
   ],
   "source": [
    "import tensorflow as tf\n",
    "new_model = tf.keras.models.load_model('binary(70,15,15)')\n",
    "\n",
    "# Check its architecture\n",
    "new_model.summary()"
   ]
  },
  {
   "cell_type": "code",
   "execution_count": 5,
   "metadata": {},
   "outputs": [],
   "source": [
    "# from desispec.io import read_spectra\n",
    "# from desitrip.preproc import rebin_flux, rescale_flux\n",
    "\n",
    "from glob import glob\n",
    "import glob\n",
    "import numpy as np\n",
    "import matplotlib as mpl\n",
    "import matplotlib.pyplot as plt\n",
    "\n",
    "import os\n",
    "import platform\n",
    "\n",
    "mpl.rc('font', size=14)\n",
    "\n",
    "## Input Spectra\n",
    "\n",
    "\n",
    "\n",
    "import pickle \n",
    "\n",
    "with open('host_flux.data', 'rb') as filehandle:\n",
    "    host_flux = pickle.load(filehandle)\n",
    "\n",
    "with open('snia_flux.data', 'rb') as filehandle:\n",
    "    # read the data as binary data stream\n",
    "    snia_flux = pickle.load(filehandle)\n",
    "\n",
    "nhost, nbins = host_flux.shape\n",
    "nsnia, nbins = snia_flux.shape\n",
    "\n",
    "nhost, nsnia, nbins\n",
    "\n",
    "### Plot Spectra to Check Output\n",
    "\n",
    "fig, axes = plt.subplots(1,2, figsize=(14,5), sharex=True, sharey=True)\n",
    "\n",
    "for i in range(0,500):\n",
    "    \n",
    "    ax = axes[0]\n",
    "    ax.plot(host_flux[i], alpha=0.2)\n",
    "\n",
    "    ax = axes[1]\n",
    "    ax.plot(snia_flux[i], alpha=0.2)\n",
    "    \n",
    "axes[0].set_title('host spectra')\n",
    "axes[1].set_title('SN spectra')\n",
    "\n",
    "fig.tight_layout()\n",
    "\n",
    "\n",
    "### Set up Training Sets and Labels\n",
    "\n",
    "# 0. \"host\" spectra based only on BGS templates\n",
    "# 1. \"snia\" spectra based on BGS + SN Ia templates\n",
    "\n",
    "x = np.concatenate([host_flux, snia_flux]).reshape(-1, nbins, 1)\n",
    "y = np.concatenate([np.zeros(nhost), np.ones(nsnia)])\n",
    "\n",
    "nhost, nbins = host_flux.shape\n",
    "nsnia, nbins = snia_flux.shape\n",
    "\n",
    "nhost, nsnia, nbins\n",
    "\n",
    "x = np.concatenate([host_flux, snia_flux]).reshape(-1, nbins, 1)\n",
    "y = np.concatenate([np.zeros(nhost), np.ones(nsnia)])"
   ]
  },
  {
   "cell_type": "code",
   "execution_count": 6,
   "metadata": {},
   "outputs": [
    {
     "data": {
      "text/plain": [
       "(11959, 3987, 3987, 11959, 3987, 3987)"
      ]
     },
     "execution_count": 6,
     "metadata": {},
     "output_type": "execute_result"
    }
   ],
   "source": [
    "from sklearn import svm, datasets\n",
    "from sklearn.model_selection import train_test_split\n",
    "x = np.concatenate([host_flux, snia_flux]).reshape(-1, nbins, 1)\n",
    "y = np.concatenate([np.zeros(nhost), np.ones(nsnia)])\n",
    "\n",
    "# <font color='blue'> 60, 20, 20 split\n",
    "\n",
    "a, x_test, b , y_test = train_test_split(x, y, test_size=0.2)\n",
    "\n",
    "x_train, x_cv, y_train, y_cv = train_test_split(a, b, test_size=0.25)\n",
    "\n",
    "len(x_train), len(x_test), len(x_cv),len(y_train), len(y_test), len(y_cv)"
   ]
  },
  {
   "cell_type": "code",
   "execution_count": 12,
   "metadata": {},
   "outputs": [
    {
     "name": "stdout",
     "output_type": "stream",
     "text": [
      "3987/3987 [==============================] - 1s 143us/sample - loss: 0.5113 - acc: 0.8658\n"
     ]
    }
   ],
   "source": [
    "hist = new_model.evaluate(x_test, y_test)"
   ]
  },
  {
   "cell_type": "code",
   "execution_count": null,
   "metadata": {},
   "outputs": [],
   "source": []
  }
 ],
 "metadata": {
  "kernelspec": {
   "display_name": "Python 3 (tensorflow 2.0.0 beta GPU)",
   "language": "python",
   "name": "tensorflow-2.0.0b"
  },
  "language_info": {
   "codemirror_mode": {
    "name": "ipython",
    "version": 3
   },
   "file_extension": ".py",
   "mimetype": "text/x-python",
   "name": "python",
   "nbconvert_exporter": "python",
   "pygments_lexer": "ipython3",
   "version": "3.7.1"
  }
 },
 "nbformat": 4,
 "nbformat_minor": 2
}
